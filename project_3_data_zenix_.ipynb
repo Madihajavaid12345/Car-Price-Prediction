{
  "nbformat": 4,
  "nbformat_minor": 0,
  "metadata": {
    "colab": {
      "provenance": [],
      "authorship_tag": "ABX9TyMNBGfWjLBFLqUOFtboolch",
      "include_colab_link": true
    },
    "kernelspec": {
      "name": "python3",
      "display_name": "Python 3"
    },
    "language_info": {
      "name": "python"
    }
  },
  "cells": [
    {
      "cell_type": "markdown",
      "metadata": {
        "id": "view-in-github",
        "colab_type": "text"
      },
      "source": [
        "<a href=\"https://colab.research.google.com/github/Madihajavaid12345/Car-Price-Prediction/blob/main/project_3_data_zenix_.ipynb\" target=\"_parent\"><img src=\"https://colab.research.google.com/assets/colab-badge.svg\" alt=\"Open In Colab\"/></a>"
      ]
    },
    {
      "cell_type": "markdown",
      "source": [
        "📄 Car Price Prediction Project Report\n",
        "1. Project Idea\n",
        "\n",
        "The price of a car depends on many factors such as brand, model, fuel type, transmission, year, and mileage. Predicting car prices is an important real-world use case in machine learning, helping buyers, sellers, and dealerships make data-driven decisions.\n",
        "\n",
        "2. Objective\n",
        "\n",
        "To build a machine learning model that predicts the selling price of cars based on given features such as year, present price, kilometers driven, fuel type, transmission type, and ownership details.\n",
        "\n",
        "3. Dataset\n",
        "\n",
        "Source: Kaggle Car Price Dataset\n",
        "\n",
        "Rows: 301\n",
        "\n",
        "Columns: 9 (Car Name, Year, Selling Price, Present Price, Driven Kms, Fuel Type, Selling Type, Transmission, Owner)\n",
        "\n",
        "4. Steps Performed\n",
        "\n",
        "Data Exploration\n",
        "\n",
        "Checked shape, data types, summary statistics.\n",
        "\n",
        "Selling price ranged from 0.1 to 35 Lakhs.\n",
        "\n",
        "Data Preprocessing\n",
        "\n",
        "Converted categorical features into numeric (One-Hot Encoding).\n",
        "\n",
        "Dropped car name since it doesn’t impact price much.\n",
        "\n",
        "Feature Selection & Splitting\n",
        "\n",
        "Features: Year, Present_Price, Driven_kms, Owner, Fuel_Type, Selling_type, Transmission.\n",
        "\n",
        "Target: Selling_Price.\n",
        "\n",
        "Split dataset into 80% training and 20% testing.\n",
        "\n",
        "Model Training\n",
        "\n",
        "Used Linear Regression model.\n",
        "\n",
        "Later evaluated performance.\n",
        "\n",
        "Evaluation Metrics\n",
        "\n",
        "R² Score: 0.60 (model explains 60% of the variance).\n",
        "\n",
        "Mean Absolute Error: 2.03 (avg error in lakhs).\n",
        "\n",
        "RMSE: 3.03 (bigger errors penalized).\n",
        "\n",
        "Visualization\n",
        "\n",
        "Created Actual vs Predicted Price bar chart for easy understanding.\n",
        "\n",
        "Clear separation of actual values vs model predictions.\n",
        "\n",
        "5. Results\n",
        "\n",
        "The Linear Regression model provides baseline performance.\n",
        "\n",
        "The model is useful but has limitations — predictions may be off by ~2–3 lakhs.\n",
        "\n",
        "To improve results, advanced models like Random Forest or XGBoost can be used.\n",
        "\n",
        "6. Conclusion\n",
        "\n",
        "This project demonstrates how machine learning can be applied to predict car prices using Python.\n",
        "Although Linear Regression gave moderate performance, it serves as a solid starting point for more advanced predictive modeling.\n",
        "\n",
        "7. Tools & Libraries\n",
        "\n",
        "Python\n",
        "\n",
        "Pandas, Numpy\n",
        "\n",
        "Scikit-learn\n",
        "\n",
        "Matplotlib"
      ],
      "metadata": {
        "id": "B6hHzRmfSVzx"
      }
    },
    {
      "cell_type": "code",
      "execution_count": 1,
      "metadata": {
        "id": "UzK2tNX_OnbL"
      },
      "outputs": [],
      "source": [
        "# Step 1: Import libraries\n",
        "import pandas as pd\n",
        "import numpy as np\n",
        "import matplotlib.pyplot as plt\n",
        "import seaborn as sns\n",
        "\n",
        "from sklearn.model_selection import train_test_split\n",
        "from sklearn.linear_model import LinearRegression\n",
        "from sklearn.metrics import mean_squared_error, r2_score\n"
      ]
    },
    {
      "cell_type": "code",
      "source": [
        "# Step 2: Load dataset\n",
        "df = pd.read_csv(\"/content/car data.csv\")\n",
        "\n",
        "# Show first rows\n",
        "print(df.head())\n",
        "print(df.info())\n",
        "print(df.describe())\n",
        "print(df.isnull().sum())\n"
      ],
      "metadata": {
        "colab": {
          "base_uri": "https://localhost:8080/"
        },
        "id": "IpsQmMqjO_Oq",
        "outputId": "e67abc3c-cff6-4dde-a35b-064aba81cb22"
      },
      "execution_count": 4,
      "outputs": [
        {
          "output_type": "stream",
          "name": "stdout",
          "text": [
            "  Car_Name  Year  Selling_Price  Present_Price  Driven_kms Fuel_Type  \\\n",
            "0     ritz  2014           3.35           5.59       27000    Petrol   \n",
            "1      sx4  2013           4.75           9.54       43000    Diesel   \n",
            "2     ciaz  2017           7.25           9.85        6900    Petrol   \n",
            "3  wagon r  2011           2.85           4.15        5200    Petrol   \n",
            "4    swift  2014           4.60           6.87       42450    Diesel   \n",
            "\n",
            "  Selling_type Transmission  Owner  \n",
            "0       Dealer       Manual      0  \n",
            "1       Dealer       Manual      0  \n",
            "2       Dealer       Manual      0  \n",
            "3       Dealer       Manual      0  \n",
            "4       Dealer       Manual      0  \n",
            "<class 'pandas.core.frame.DataFrame'>\n",
            "RangeIndex: 301 entries, 0 to 300\n",
            "Data columns (total 9 columns):\n",
            " #   Column         Non-Null Count  Dtype  \n",
            "---  ------         --------------  -----  \n",
            " 0   Car_Name       301 non-null    object \n",
            " 1   Year           301 non-null    int64  \n",
            " 2   Selling_Price  301 non-null    float64\n",
            " 3   Present_Price  301 non-null    float64\n",
            " 4   Driven_kms     301 non-null    int64  \n",
            " 5   Fuel_Type      301 non-null    object \n",
            " 6   Selling_type   301 non-null    object \n",
            " 7   Transmission   301 non-null    object \n",
            " 8   Owner          301 non-null    int64  \n",
            "dtypes: float64(2), int64(3), object(4)\n",
            "memory usage: 21.3+ KB\n",
            "None\n",
            "              Year  Selling_Price  Present_Price     Driven_kms       Owner\n",
            "count   301.000000     301.000000     301.000000     301.000000  301.000000\n",
            "mean   2013.627907       4.661296       7.628472   36947.205980    0.043189\n",
            "std       2.891554       5.082812       8.642584   38886.883882    0.247915\n",
            "min    2003.000000       0.100000       0.320000     500.000000    0.000000\n",
            "25%    2012.000000       0.900000       1.200000   15000.000000    0.000000\n",
            "50%    2014.000000       3.600000       6.400000   32000.000000    0.000000\n",
            "75%    2016.000000       6.000000       9.900000   48767.000000    0.000000\n",
            "max    2018.000000      35.000000      92.600000  500000.000000    3.000000\n",
            "Car_Name         0\n",
            "Year             0\n",
            "Selling_Price    0\n",
            "Present_Price    0\n",
            "Driven_kms       0\n",
            "Fuel_Type        0\n",
            "Selling_type     0\n",
            "Transmission     0\n",
            "Owner            0\n",
            "dtype: int64\n"
          ]
        }
      ]
    },
    {
      "cell_type": "code",
      "source": [
        "# Step 3: Handle categorical features\n",
        "df = pd.get_dummies(df, drop_first=True)\n",
        "\n",
        "# Check dataset after encoding\n",
        "print(df.head())\n",
        "print(\"Shape after encoding:\", df.shape)"
      ],
      "metadata": {
        "colab": {
          "base_uri": "https://localhost:8080/"
        },
        "id": "qXiTzWcxPHNR",
        "outputId": "4ef08e00-3cc3-4b2c-844a-e4159cef5783"
      },
      "execution_count": 5,
      "outputs": [
        {
          "output_type": "stream",
          "name": "stdout",
          "text": [
            "   Year  Selling_Price  Present_Price  Driven_kms  Owner  Car_Name_Activa 3g  \\\n",
            "0  2014           3.35           5.59       27000      0               False   \n",
            "1  2013           4.75           9.54       43000      0               False   \n",
            "2  2017           7.25           9.85        6900      0               False   \n",
            "3  2011           2.85           4.15        5200      0               False   \n",
            "4  2014           4.60           6.87       42450      0               False   \n",
            "\n",
            "   Car_Name_Activa 4g  Car_Name_Bajaj  ct 100  Car_Name_Bajaj Avenger 150  \\\n",
            "0               False                   False                       False   \n",
            "1               False                   False                       False   \n",
            "2               False                   False                       False   \n",
            "3               False                   False                       False   \n",
            "4               False                   False                       False   \n",
            "\n",
            "   Car_Name_Bajaj Avenger 150 street  ...  Car_Name_swift  Car_Name_sx4  \\\n",
            "0                              False  ...           False         False   \n",
            "1                              False  ...           False          True   \n",
            "2                              False  ...           False         False   \n",
            "3                              False  ...           False         False   \n",
            "4                              False  ...            True         False   \n",
            "\n",
            "   Car_Name_verna  Car_Name_vitara brezza  Car_Name_wagon r  Car_Name_xcent  \\\n",
            "0           False                   False             False           False   \n",
            "1           False                   False             False           False   \n",
            "2           False                   False             False           False   \n",
            "3           False                   False              True           False   \n",
            "4           False                   False             False           False   \n",
            "\n",
            "   Fuel_Type_Diesel  Fuel_Type_Petrol  Selling_type_Individual  \\\n",
            "0             False              True                    False   \n",
            "1              True             False                    False   \n",
            "2             False              True                    False   \n",
            "3             False              True                    False   \n",
            "4              True             False                    False   \n",
            "\n",
            "   Transmission_Manual  \n",
            "0                 True  \n",
            "1                 True  \n",
            "2                 True  \n",
            "3                 True  \n",
            "4                 True  \n",
            "\n",
            "[5 rows x 106 columns]\n",
            "Shape after encoding: (301, 106)\n"
          ]
        }
      ]
    },
    {
      "cell_type": "code",
      "source": [
        "# Step 4: Define Features (X) and Target (y)\n",
        "X = df.drop(\"Selling_Price\", axis=1)   # Independent variables\n",
        "y = df[\"Selling_Price\"]                # Dependent variable (target)\n",
        "\n",
        "print(\"X shape:\", X.shape)\n",
        "print(\"y shape:\", y.shape)\n"
      ],
      "metadata": {
        "colab": {
          "base_uri": "https://localhost:8080/"
        },
        "id": "FESg8R_7PU7F",
        "outputId": "1e4cc9d8-2196-40f2-827a-36a4e655f495"
      },
      "execution_count": 6,
      "outputs": [
        {
          "output_type": "stream",
          "name": "stdout",
          "text": [
            "X shape: (301, 105)\n",
            "y shape: (301,)\n"
          ]
        }
      ]
    },
    {
      "cell_type": "code",
      "source": [
        "# Step 5: Split Data into Training and Testing\n",
        "X_train, X_test, y_train, y_test = train_test_split(\n",
        "    X, y, test_size=0.2, random_state=42\n",
        ")\n",
        "\n",
        "print(\"Training data shape:\", X_train.shape)\n",
        "print(\"Testing data shape:\", X_test.shape)\n"
      ],
      "metadata": {
        "colab": {
          "base_uri": "https://localhost:8080/"
        },
        "id": "7BlMyxQ_P7T9",
        "outputId": "c2c6de5a-72dd-4f17-d48b-63464d14fc32"
      },
      "execution_count": 7,
      "outputs": [
        {
          "output_type": "stream",
          "name": "stdout",
          "text": [
            "Training data shape: (240, 105)\n",
            "Testing data shape: (61, 105)\n"
          ]
        }
      ]
    },
    {
      "cell_type": "code",
      "source": [
        "# Step 6: Train Model (Linear Regression)\n",
        "model = LinearRegression()\n",
        "model.fit(X_train, y_train)\n",
        "\n",
        "# Predictions\n",
        "y_pred = model.predict(X_test)\n"
      ],
      "metadata": {
        "id": "03W46-f7P-0d"
      },
      "execution_count": 8,
      "outputs": []
    },
    {
      "cell_type": "code",
      "source": [
        "# Step 7: Evaluate Model\n",
        "from sklearn.metrics import r2_score, mean_absolute_error, mean_squared_error\n",
        "\n",
        "print(\"R2 Score:\", r2_score(y_test, y_pred))\n",
        "print(\"Mean Absolute Error:\", mean_absolute_error(y_test, y_pred))\n",
        "print(\"Mean Squared Error:\", mean_squared_error(y_test, y_pred))\n",
        "print(\"Root Mean Squared Error:\", np.sqrt(mean_squared_error(y_test, y_pred)))\n"
      ],
      "metadata": {
        "colab": {
          "base_uri": "https://localhost:8080/"
        },
        "id": "8o4nu_z2QTsI",
        "outputId": "cd2b1a43-86e9-486c-99c7-0fa05d00f154"
      },
      "execution_count": 10,
      "outputs": [
        {
          "output_type": "stream",
          "name": "stdout",
          "text": [
            "R2 Score: 0.5997023481243802\n",
            "Mean Absolute Error: 2.0365174791070033\n",
            "Mean Squared Error: 9.221090393054562\n",
            "Root Mean Squared Error: 3.0366248357435532\n"
          ]
        }
      ]
    },
    {
      "cell_type": "code",
      "source": [
        "import matplotlib.pyplot as plt\n",
        "import numpy as np\n",
        "\n",
        "# Step 8: Simple Visualization (Layman Friendly)\n",
        "\n",
        "# Pick first 20 cars from test set for visualization\n",
        "sample_size = 20\n",
        "x_axis = np.arange(sample_size)\n",
        "\n",
        "plt.figure(figsize=(12,6))\n",
        "plt.bar(x_axis - 0.2, y_test[:sample_size], 0.4, label='Actual Price', color='skyblue')\n",
        "plt.bar(x_axis + 0.2, y_pred[:sample_size], 0.4, label='Predicted Price', color='orange')\n",
        "\n",
        "plt.xlabel(\"Car Index (Sample)\")\n",
        "plt.ylabel(\"Selling Price\")\n",
        "plt.title(\"Actual vs Predicted Car Prices (Sample of 20 Cars)\")\n",
        "plt.legend()\n",
        "plt.show()\n"
      ],
      "metadata": {
        "colab": {
          "base_uri": "https://localhost:8080/",
          "height": 337
        },
        "id": "w_Z9GfooROuU",
        "outputId": "c6ca665c-ad3b-4778-c8b4-01758e11758a"
      },
      "execution_count": 12,
      "outputs": [
        {
          "output_type": "display_data",
          "data": {
            "text/plain": [
              "<Figure size 1200x600 with 1 Axes>"
            ],
            "image/png": "[encoded data removed]"
          },
          "metadata": {}
        }
      ]
    }
  ]
}